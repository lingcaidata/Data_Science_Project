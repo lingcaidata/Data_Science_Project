{
 "cells": [
  {
   "cell_type": "markdown",
   "metadata": {},
   "source": [
    "# Stock Recommendation Based on Sentiment Analysis"
   ]
  },
  {
   "cell_type": "markdown",
   "metadata": {},
   "source": [
    "www.finviz.com\n"
   ]
  },
  {
   "cell_type": "code",
   "execution_count": 171,
   "metadata": {},
   "outputs": [
    {
     "name": "stderr",
     "output_type": "stream",
     "text": [
      "[nltk_data] Downloading package stopwords to\n",
      "[nltk_data]     C:\\Users\\LC\\AppData\\Roaming\\nltk_data...\n",
      "[nltk_data]   Package stopwords is already up-to-date!\n"
     ]
    },
    {
     "data": {
      "text/plain": [
       "True"
      ]
     },
     "execution_count": 171,
     "metadata": {},
     "output_type": "execute_result"
    }
   ],
   "source": [
    "# library\n",
    "from bs4 import BeautifulSoup\n",
    "import os\n",
    "import datetime\n",
    "import pandas as pd\n",
    "import numpy as np\n",
    "from matplotlib import pyplot as plt\n",
    "import nltk\n",
    "nltk.download('stopwords')"
   ]
  },
  {
   "cell_type": "code",
   "execution_count": 172,
   "metadata": {},
   "outputs": [],
   "source": [
    "# The .html files are saved in the 'datasets' folder. \n",
    "# In each html file, the infomration that we want is in the section \n",
    "# where the id = 'news-table'\n",
    "html_tbls = dict()\n",
    "for file in os.listdir('datasets'): \n",
    "    filepath = f'datasets/{file}'\n",
    "#     html = BeautifulSoup(open(filepath),features=\"xml\")\n",
    "    html = BeautifulSoup(open(f'datasets/{file}','r'))\n",
    "    html_tbl=html.find(id='news-table') \n",
    "    html_tbls[file]=html_tbl"
   ]
  },
  {
   "cell_type": "code",
   "execution_count": 173,
   "metadata": {},
   "outputs": [
    {
     "name": "stdout",
     "output_type": "stream",
     "text": [
      "There are these files in the datasets folder:  ['ba_03jun.html', 'fb_05ene.html', 'fb_22sep.html', 'gpro_06jun.html', 'nvda_06jun.html', 'tsla_05ene.html', 'tsla_22sep.html', 'tsla_26nov.html'] \n",
      "\n",
      "Sample link_a 0 Billionaire investor questions Elon Musk getting 'a pass' after bombshell tweets\n",
      "Sample link_td 0 Sep-21-18 09:56PM  \n",
      "Sample link_a 1 Broadcoms Stock Looks Like a Winner\n",
      "Sample link_td 1 09:30PM  \n",
      "Sample link_a 2 SHAREHOLDER ALERT:Â  Pomerantz Law Firm Reminds Shareholders with Losses on their Investment in Tesla, Inc. of Class Action Lawsuit and Upcoming Deadline  TSLA\n",
      "Sample link_td 2 05:30PM  \n"
     ]
    }
   ],
   "source": [
    "files = os.listdir('datasets')\n",
    "print('There are these files in the datasets folder: ', files, '\\n')\n",
    "tsla = html_tbls['tsla_22sep.html'] #randomly pick one of them to peak\n",
    "tsla_tr = gpro.findAll('tr')\n",
    "for i, table_row in enumerate(gpro_tr): \n",
    "    if i<3: #just peak the first 3 \n",
    "        link_a = table_row.a.get_text() #Read the text contents of the <a> tag\n",
    "        link_td = table_row.td.get_text()#Read the contents of the <td> tag.\n",
    "        print('Sample link_a', i, link_a)\n",
    "        print('Sample link_td', i, link_td)"
   ]
  },
  {
   "cell_type": "markdown",
   "metadata": {},
   "source": [
    "#### Observation\n",
    "As seen above, the information inside each table row (<code>&lt;tr&gt;</code>) is in the text inside the <code>&lt;td&gt;</code> and <code>&lt;a&gt;</code> tags. \n",
    "\n",
    "link_td* to store the <code>&lt;td&gt;</code> which has the date/time; \n",
    "\n",
    "link_a* to store the <code>&lt;a&gt;</code> which has the content. \n",
    "\n",
    "Next Action: parse the data for <strong>all</strong> tables in a comfortable data structure.\n"
   ]
  },
  {
   "cell_type": "code",
   "execution_count": 174,
   "metadata": {},
   "outputs": [
    {
     "name": "stdout",
     "output_type": "stream",
     "text": [
      "Peak of the last item:\n",
      "['tsla', '05:00AM', '06:50PM', 'Meet the man who runs Teslas Gigafactory 2 in Buffalo']\n"
     ]
    }
   ],
   "source": [
    "parsed_news = []\n",
    "for file, news_table in html_tbls.items(): \n",
    "    for x in news_table.findAll('tr'): \n",
    "        headline = x.a.get_text()\n",
    "        date_scrape = x.td.get_text().split() \n",
    "        if len(date_scrape) ==1: \n",
    "            date = date_scrape[0]\n",
    "        else: \n",
    "            date = date_scrape[0]\n",
    "            time = date_scrape[1]\n",
    "        symbol = file.split('_')[0]\n",
    "        parsed_news.append([symbol, date, time, headline])\n",
    "\n",
    "print('Peak of the last item:')\n",
    "print(parsed_news[-1])"
   ]
  },
  {
   "cell_type": "markdown",
   "metadata": {},
   "source": [
    "#### Add financial keywords to the nltk analysis"
   ]
  },
  {
   "cell_type": "code",
   "execution_count": 175,
   "metadata": {},
   "outputs": [],
   "source": [
    "from nltk.sentiment.vader import SentimentIntensityAnalyzer\n",
    "\n",
    "# New words and values\n",
    "new_words = {\n",
    "    'crushes': 10,'crushed': 10,\n",
    "    'beats': 5,'beat': 5,\n",
    "    'misses': -5,'missed': -5,\n",
    "    'trouble': -10,'troubled'\n",
    "    'falls': -100,'fell': -100    \n",
    "}\n",
    "# Instantiate the sentiment intensity analyzer with the existing lexicon\n",
    "vader = SentimentIntensityAnalyzer()\n",
    "# Update the lexicon\n",
    "vader.lexicon.update(new_words)"
   ]
  },
  {
   "cell_type": "code",
   "execution_count": 176,
   "metadata": {},
   "outputs": [
    {
     "name": "stdout",
     "output_type": "stream",
     "text": [
      "The Base Table Below: \n"
     ]
    },
    {
     "data": {
      "text/html": [
       "<div>\n",
       "<style scoped>\n",
       "    .dataframe tbody tr th:only-of-type {\n",
       "        vertical-align: middle;\n",
       "    }\n",
       "\n",
       "    .dataframe tbody tr th {\n",
       "        vertical-align: top;\n",
       "    }\n",
       "\n",
       "    .dataframe thead th {\n",
       "        text-align: right;\n",
       "    }\n",
       "</style>\n",
       "<table border=\"1\" class=\"dataframe\">\n",
       "  <thead>\n",
       "    <tr style=\"text-align: right;\">\n",
       "      <th></th>\n",
       "      <th>sym</th>\n",
       "      <th>date</th>\n",
       "      <th>time</th>\n",
       "      <th>headline</th>\n",
       "      <th>compound</th>\n",
       "      <th>neg</th>\n",
       "      <th>neu</th>\n",
       "      <th>pos</th>\n",
       "    </tr>\n",
       "  </thead>\n",
       "  <tbody>\n",
       "    <tr>\n",
       "      <th>0</th>\n",
       "      <td>ba</td>\n",
       "      <td>2020-06-03</td>\n",
       "      <td>16:38:00</td>\n",
       "      <td>Stock Market Today: Dow Shoots Past 26K in Thi...</td>\n",
       "      <td>0.6486</td>\n",
       "      <td>0.000</td>\n",
       "      <td>0.629</td>\n",
       "      <td>0.371</td>\n",
       "    </tr>\n",
       "    <tr>\n",
       "      <th>1</th>\n",
       "      <td>ba</td>\n",
       "      <td>2020-06-04</td>\n",
       "      <td>16:38:00</td>\n",
       "      <td>Stock market news live updates: Stocks rise fo...</td>\n",
       "      <td>-0.5106</td>\n",
       "      <td>0.225</td>\n",
       "      <td>0.693</td>\n",
       "      <td>0.082</td>\n",
       "    </tr>\n",
       "  </tbody>\n",
       "</table>\n",
       "</div>"
      ],
      "text/plain": [
       "  sym        date      time  \\\n",
       "0  ba  2020-06-03  16:38:00   \n",
       "1  ba  2020-06-04  16:38:00   \n",
       "\n",
       "                                            headline  compound    neg    neu  \\\n",
       "0  Stock Market Today: Dow Shoots Past 26K in Thi...    0.6486  0.000  0.629   \n",
       "1  Stock market news live updates: Stocks rise fo...   -0.5106  0.225  0.693   \n",
       "\n",
       "     pos  \n",
       "0  0.371  \n",
       "1  0.082  "
      ]
     },
     "metadata": {},
     "output_type": "display_data"
    }
   ],
   "source": [
    "base_df = pd.DataFrame(data=parsed_news, \n",
    "                       columns = ['sym', 'date', 'time', 'headline'])\n",
    "scores = [vader.polarity_scores(i) for i in base_df['headline'].values]\n",
    "scores_df = pd.DataFrame(scores)\n",
    "base_df = pd.concat([base_df, scores_df], axis=1)\n",
    "base_df['date'] = pd.to_datetime(base_df['date']).dt.date\n",
    "base_df['time'] = pd.to_datetime(base_df['time']).dt.time\n",
    "# print(base_df['headline'].count())\n",
    "\n",
    "# Remove Duplicates Headlines\n",
    "base_df = base_df.drop_duplicates(subset = ['sym', 'headline'])\n",
    "\n",
    "print('The Base Table Below: ')\n",
    "display(base_df.head(2))\n",
    "# print(base_df['headline'].count())"
   ]
  },
  {
   "cell_type": "code",
   "execution_count": null,
   "metadata": {},
   "outputs": [],
   "source": []
  },
  {
   "cell_type": "markdown",
   "metadata": {},
   "source": [
    "## See a Single Stock's Single Day Score over Time of Day"
   ]
  },
  {
   "cell_type": "code",
   "execution_count": 177,
   "metadata": {},
   "outputs": [
    {
     "data": {
      "text/plain": [
       "<matplotlib.legend.Legend at 0x2577618a0f0>"
      ]
     },
     "execution_count": 177,
     "metadata": {},
     "output_type": "execute_result"
    },
    {
     "data": {
      "image/png": "[encoded data removed]",
      "text/plain": [
       "<Figure size 1080x432 with 1 Axes>"
      ]
     },
     "metadata": {
      "needs_background": "light"
     },
     "output_type": "display_data"
    }
   ],
   "source": [
    "# Only want to see BA on Jun 4, 2020\n",
    "mydate = datetime.date(year=2020,month=6,day=4)\n",
    "mystock = 'ba'\n",
    "sym_date_time = base_df.groupby(['sym', 'date', 'time'], as_index = False).mean()\n",
    "\n",
    "mystock_mydate = sym_date_time[sym_date_df['sym']==mystock]\n",
    "mystock_mydate = mystock_mydate[mystock_mydate['date'] == mydate]\n",
    "mystock_mydate = mystock_mydate.drop(columns = ['compound'])\n",
    "mystock_mydate.set_index('time')\n",
    "\n",
    "mystock_mydate.plot.bar(x='time', stacked = True, figsize=(15,6),\n",
    "                title = \"BA Neg, Neu,Pos Sentiment on 04JUN2020\", \n",
    "                color=['red','orange','green']).legend(bbox_to_anchor=(1,0.5))\n",
    "                                               "
   ]
  },
  {
   "cell_type": "markdown",
   "metadata": {},
   "source": [
    "## See Various Stocks' Recent Compound Ratings Over Time\n",
    "\n",
    "I am really interested in seeing recent Compound scores of all these stocks in my profile over the past 3 weeks. "
   ]
  },
  {
   "cell_type": "code",
   "execution_count": 178,
   "metadata": {},
   "outputs": [
    {
     "data": {
      "text/html": [
       "<div>\n",
       "<style scoped>\n",
       "    .dataframe tbody tr th:only-of-type {\n",
       "        vertical-align: middle;\n",
       "    }\n",
       "\n",
       "    .dataframe tbody tr th {\n",
       "        vertical-align: top;\n",
       "    }\n",
       "\n",
       "    .dataframe thead th {\n",
       "        text-align: right;\n",
       "    }\n",
       "</style>\n",
       "<table border=\"1\" class=\"dataframe\">\n",
       "  <thead>\n",
       "    <tr style=\"text-align: right;\">\n",
       "      <th></th>\n",
       "      <th>sym</th>\n",
       "      <th>date</th>\n",
       "      <th>compound</th>\n",
       "    </tr>\n",
       "  </thead>\n",
       "  <tbody>\n",
       "    <tr>\n",
       "      <th>0</th>\n",
       "      <td>ba</td>\n",
       "      <td>2020-05-28</td>\n",
       "      <td>0.000000</td>\n",
       "    </tr>\n",
       "    <tr>\n",
       "      <th>1</th>\n",
       "      <td>ba</td>\n",
       "      <td>2020-05-29</td>\n",
       "      <td>0.000000</td>\n",
       "    </tr>\n",
       "    <tr>\n",
       "      <th>2</th>\n",
       "      <td>ba</td>\n",
       "      <td>2020-05-30</td>\n",
       "      <td>0.493900</td>\n",
       "    </tr>\n",
       "    <tr>\n",
       "      <th>3</th>\n",
       "      <td>ba</td>\n",
       "      <td>2020-05-31</td>\n",
       "      <td>0.025800</td>\n",
       "    </tr>\n",
       "    <tr>\n",
       "      <th>4</th>\n",
       "      <td>ba</td>\n",
       "      <td>2020-06-01</td>\n",
       "      <td>-0.510600</td>\n",
       "    </tr>\n",
       "    <tr>\n",
       "      <th>5</th>\n",
       "      <td>ba</td>\n",
       "      <td>2020-06-02</td>\n",
       "      <td>0.000000</td>\n",
       "    </tr>\n",
       "    <tr>\n",
       "      <th>6</th>\n",
       "      <td>ba</td>\n",
       "      <td>2020-06-03</td>\n",
       "      <td>0.648600</td>\n",
       "    </tr>\n",
       "    <tr>\n",
       "      <th>7</th>\n",
       "      <td>ba</td>\n",
       "      <td>2020-06-04</td>\n",
       "      <td>0.009741</td>\n",
       "    </tr>\n",
       "    <tr>\n",
       "      <th>21</th>\n",
       "      <td>fb</td>\n",
       "      <td>2020-06-04</td>\n",
       "      <td>0.032805</td>\n",
       "    </tr>\n",
       "    <tr>\n",
       "      <th>74</th>\n",
       "      <td>gpro</td>\n",
       "      <td>2020-05-20</td>\n",
       "      <td>0.000000</td>\n",
       "    </tr>\n",
       "  </tbody>\n",
       "</table>\n",
       "</div>"
      ],
      "text/plain": [
       "     sym        date  compound\n",
       "0     ba  2020-05-28  0.000000\n",
       "1     ba  2020-05-29  0.000000\n",
       "2     ba  2020-05-30  0.493900\n",
       "3     ba  2020-05-31  0.025800\n",
       "4     ba  2020-06-01 -0.510600\n",
       "5     ba  2020-06-02  0.000000\n",
       "6     ba  2020-06-03  0.648600\n",
       "7     ba  2020-06-04  0.009741\n",
       "21    fb  2020-06-04  0.032805\n",
       "74  gpro  2020-05-20  0.000000"
      ]
     },
     "metadata": {},
     "output_type": "display_data"
    }
   ],
   "source": [
    "sym_date = base_df.groupby(['sym', 'date'], as_index = False).mean()\n",
    "startdate = datetime.date.today()- datetime.timedelta(days=21)\n",
    "\n",
    "sym_date = sym_date[sym_date['date']>=startdate]\n",
    "sym_date = sym_date.drop(columns = ['neg', 'neu', 'pos'])\n",
    "sym_date.set_index('date')\n",
    "display(sym_date.head(10))"
   ]
  },
  {
   "cell_type": "code",
   "execution_count": 179,
   "metadata": {},
   "outputs": [
    {
     "data": {
      "image/png": "[encoded data removed]",
      "text/plain": [
       "<Figure size 1152x648 with 1 Axes>"
      ]
     },
     "metadata": {
      "needs_background": "light"
     },
     "output_type": "display_data"
    }
   ],
   "source": [
    "plt.figure(figsize=(16, 9))\n",
    "plt.plot( 'date', 'compound', data=sym_date[sym_date['sym']=='ba'], marker='o', \n",
    "         color='skyblue', label='ba')\n",
    "plt.plot( 'date', 'compound', data=sym_date[sym_date['sym']=='nvda'], marker='', \n",
    "         color='olive', label='nvda')\n",
    "plt.plot( 'date', 'compound', data=sym_date[sym_date['sym']=='gpro'], marker='*', \n",
    "         color='orange', label=\"gpro\") #linewidth=2, linestyle='dashed'\n",
    "plt.title(\"Various Stocks' Compound Rating in the Past 21 Days\",\n",
    "         fontsize=20)\n",
    "plt.xlabel('date', fontsize=15)\n",
    "plt.ylabel('Compound Rating', fontsize=15)\n",
    "plt.legend(fontsize=15)\n",
    "plt.show()\n",
    "                                            \n"
   ]
  }
 ],
 "metadata": {
  "kernelspec": {
   "display_name": "Python 3",
   "language": "python",
   "name": "python3"
  },
  "language_info": {
   "codemirror_mode": {
    "name": "ipython",
    "version": 3
   },
   "file_extension": ".py",
   "mimetype": "text/x-python",
   "name": "python",
   "nbconvert_exporter": "python",
   "pygments_lexer": "ipython3",
   "version": "3.6.8"
  }
 },
 "nbformat": 4,
 "nbformat_minor": 2
}
